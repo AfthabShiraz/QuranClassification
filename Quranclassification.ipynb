{
  "nbformat": 4,
  "nbformat_minor": 0,
  "metadata": {
    "colab": {
      "provenance": [],
      "gpuType": "A100",
      "authorship_tag": "ABX9TyNcdiYSpYBZ0fUvwVsLLTXE",
      "include_colab_link": true
    },
    "kernelspec": {
      "name": "python3",
      "display_name": "Python 3"
    },
    "language_info": {
      "name": "python"
    },
    "accelerator": "GPU"
  },
  "cells": [
    {
      "cell_type": "markdown",
      "metadata": {
        "id": "view-in-github",
        "colab_type": "text"
      },
      "source": [
        "<a href=\"https://colab.research.google.com/github/AfthabShiraz/QuranClassification/blob/main/Quranclassification.ipynb\" target=\"_parent\"><img src=\"https://colab.research.google.com/assets/colab-badge.svg\" alt=\"Open In Colab\"/></a>"
      ]
    },
    {
      "cell_type": "code",
      "execution_count": null,
      "metadata": {
        "colab": {
          "base_uri": "https://localhost:8080/",
          "height": 84
        },
        "collapsed": true,
        "id": "suQMyrOJeSzp",
        "outputId": "2745c096-c6c6-4e45-b5c4-894d73b6f227"
      },
      "outputs": [
        {
          "output_type": "display_data",
          "data": {
            "text/plain": [
              "<IPython.core.display.HTML object>"
            ],
            "text/html": [
              "\n",
              "     <input type=\"file\" id=\"files-9b4569e5-99ec-42d4-b9f4-8ec16f4aba45\" name=\"files[]\" multiple disabled\n",
              "        style=\"border:none\" />\n",
              "     <output id=\"result-9b4569e5-99ec-42d4-b9f4-8ec16f4aba45\">\n",
              "      Upload widget is only available when the cell has been executed in the\n",
              "      current browser session. Please rerun this cell to enable.\n",
              "      </output>\n",
              "      <script>// Copyright 2017 Google LLC\n",
              "//\n",
              "// Licensed under the Apache License, Version 2.0 (the \"License\");\n",
              "// you may not use this file except in compliance with the License.\n",
              "// You may obtain a copy of the License at\n",
              "//\n",
              "//      http://www.apache.org/licenses/LICENSE-2.0\n",
              "//\n",
              "// Unless required by applicable law or agreed to in writing, software\n",
              "// distributed under the License is distributed on an \"AS IS\" BASIS,\n",
              "// WITHOUT WARRANTIES OR CONDITIONS OF ANY KIND, either express or implied.\n",
              "// See the License for the specific language governing permissions and\n",
              "// limitations under the License.\n",
              "\n",
              "/**\n",
              " * @fileoverview Helpers for google.colab Python module.\n",
              " */\n",
              "(function(scope) {\n",
              "function span(text, styleAttributes = {}) {\n",
              "  const element = document.createElement('span');\n",
              "  element.textContent = text;\n",
              "  for (const key of Object.keys(styleAttributes)) {\n",
              "    element.style[key] = styleAttributes[key];\n",
              "  }\n",
              "  return element;\n",
              "}\n",
              "\n",
              "// Max number of bytes which will be uploaded at a time.\n",
              "const MAX_PAYLOAD_SIZE = 100 * 1024;\n",
              "\n",
              "function _uploadFiles(inputId, outputId) {\n",
              "  const steps = uploadFilesStep(inputId, outputId);\n",
              "  const outputElement = document.getElementById(outputId);\n",
              "  // Cache steps on the outputElement to make it available for the next call\n",
              "  // to uploadFilesContinue from Python.\n",
              "  outputElement.steps = steps;\n",
              "\n",
              "  return _uploadFilesContinue(outputId);\n",
              "}\n",
              "\n",
              "// This is roughly an async generator (not supported in the browser yet),\n",
              "// where there are multiple asynchronous steps and the Python side is going\n",
              "// to poll for completion of each step.\n",
              "// This uses a Promise to block the python side on completion of each step,\n",
              "// then passes the result of the previous step as the input to the next step.\n",
              "function _uploadFilesContinue(outputId) {\n",
              "  const outputElement = document.getElementById(outputId);\n",
              "  const steps = outputElement.steps;\n",
              "\n",
              "  const next = steps.next(outputElement.lastPromiseValue);\n",
              "  return Promise.resolve(next.value.promise).then((value) => {\n",
              "    // Cache the last promise value to make it available to the next\n",
              "    // step of the generator.\n",
              "    outputElement.lastPromiseValue = value;\n",
              "    return next.value.response;\n",
              "  });\n",
              "}\n",
              "\n",
              "/**\n",
              " * Generator function which is called between each async step of the upload\n",
              " * process.\n",
              " * @param {string} inputId Element ID of the input file picker element.\n",
              " * @param {string} outputId Element ID of the output display.\n",
              " * @return {!Iterable<!Object>} Iterable of next steps.\n",
              " */\n",
              "function* uploadFilesStep(inputId, outputId) {\n",
              "  const inputElement = document.getElementById(inputId);\n",
              "  inputElement.disabled = false;\n",
              "\n",
              "  const outputElement = document.getElementById(outputId);\n",
              "  outputElement.innerHTML = '';\n",
              "\n",
              "  const pickedPromise = new Promise((resolve) => {\n",
              "    inputElement.addEventListener('change', (e) => {\n",
              "      resolve(e.target.files);\n",
              "    });\n",
              "  });\n",
              "\n",
              "  const cancel = document.createElement('button');\n",
              "  inputElement.parentElement.appendChild(cancel);\n",
              "  cancel.textContent = 'Cancel upload';\n",
              "  const cancelPromise = new Promise((resolve) => {\n",
              "    cancel.onclick = () => {\n",
              "      resolve(null);\n",
              "    };\n",
              "  });\n",
              "\n",
              "  // Wait for the user to pick the files.\n",
              "  const files = yield {\n",
              "    promise: Promise.race([pickedPromise, cancelPromise]),\n",
              "    response: {\n",
              "      action: 'starting',\n",
              "    }\n",
              "  };\n",
              "\n",
              "  cancel.remove();\n",
              "\n",
              "  // Disable the input element since further picks are not allowed.\n",
              "  inputElement.disabled = true;\n",
              "\n",
              "  if (!files) {\n",
              "    return {\n",
              "      response: {\n",
              "        action: 'complete',\n",
              "      }\n",
              "    };\n",
              "  }\n",
              "\n",
              "  for (const file of files) {\n",
              "    const li = document.createElement('li');\n",
              "    li.append(span(file.name, {fontWeight: 'bold'}));\n",
              "    li.append(span(\n",
              "        `(${file.type || 'n/a'}) - ${file.size} bytes, ` +\n",
              "        `last modified: ${\n",
              "            file.lastModifiedDate ? file.lastModifiedDate.toLocaleDateString() :\n",
              "                                    'n/a'} - `));\n",
              "    const percent = span('0% done');\n",
              "    li.appendChild(percent);\n",
              "\n",
              "    outputElement.appendChild(li);\n",
              "\n",
              "    const fileDataPromise = new Promise((resolve) => {\n",
              "      const reader = new FileReader();\n",
              "      reader.onload = (e) => {\n",
              "        resolve(e.target.result);\n",
              "      };\n",
              "      reader.readAsArrayBuffer(file);\n",
              "    });\n",
              "    // Wait for the data to be ready.\n",
              "    let fileData = yield {\n",
              "      promise: fileDataPromise,\n",
              "      response: {\n",
              "        action: 'continue',\n",
              "      }\n",
              "    };\n",
              "\n",
              "    // Use a chunked sending to avoid message size limits. See b/62115660.\n",
              "    let position = 0;\n",
              "    do {\n",
              "      const length = Math.min(fileData.byteLength - position, MAX_PAYLOAD_SIZE);\n",
              "      const chunk = new Uint8Array(fileData, position, length);\n",
              "      position += length;\n",
              "\n",
              "      const base64 = btoa(String.fromCharCode.apply(null, chunk));\n",
              "      yield {\n",
              "        response: {\n",
              "          action: 'append',\n",
              "          file: file.name,\n",
              "          data: base64,\n",
              "        },\n",
              "      };\n",
              "\n",
              "      let percentDone = fileData.byteLength === 0 ?\n",
              "          100 :\n",
              "          Math.round((position / fileData.byteLength) * 100);\n",
              "      percent.textContent = `${percentDone}% done`;\n",
              "\n",
              "    } while (position < fileData.byteLength);\n",
              "  }\n",
              "\n",
              "  // All done.\n",
              "  yield {\n",
              "    response: {\n",
              "      action: 'complete',\n",
              "    }\n",
              "  };\n",
              "}\n",
              "\n",
              "scope.google = scope.google || {};\n",
              "scope.google.colab = scope.google.colab || {};\n",
              "scope.google.colab._files = {\n",
              "  _uploadFiles,\n",
              "  _uploadFilesContinue,\n",
              "};\n",
              "})(self);\n",
              "</script> "
            ]
          },
          "metadata": {}
        },
        {
          "output_type": "stream",
          "name": "stdout",
          "text": [
            "Saving kaggle.json to kaggle.json\n"
          ]
        },
        {
          "output_type": "execute_result",
          "data": {
            "text/plain": [
              "{'kaggle.json': b'{\"username\":\"afthabshiraz\",\"key\":\"44d2ae1b3a72f0059f2b6164534fc3fe\"}'}"
            ]
          },
          "metadata": {},
          "execution_count": 1
        }
      ],
      "source": [
        "from google.colab import files\n",
        "files.upload()\n"
      ]
    },
    {
      "cell_type": "code",
      "source": [
        "!mkdir -p ~/.kaggle\n",
        "!mv kaggle.json ~/.kaggle/\n",
        "!chmod 600 ~/.kaggle/kaggle.json\n"
      ],
      "metadata": {
        "id": "R2fLC_E07gl6"
      },
      "execution_count": null,
      "outputs": []
    },
    {
      "cell_type": "code",
      "source": [
        "!kaggle datasets download ardiyanto24/quran-recitation -p /content\n",
        "!unzip /content/quran-recitation.zip -d /content/quran-recitation\n"
      ],
      "metadata": {
        "colab": {
          "base_uri": "https://localhost:8080/"
        },
        "collapsed": true,
        "id": "GCU3LAFA7mcY",
        "outputId": "662a858d-a049-41d4-ffa9-33e235766aad"
      },
      "execution_count": null,
      "outputs": [
        {
          "output_type": "stream",
          "name": "stdout",
          "text": [
            "Dataset URL: https://www.kaggle.com/datasets/omarkhled/quran-recitations\n",
            "License(s): CC0-1.0\n",
            "User cancelled operation\n"
          ]
        }
      ]
    },
    {
      "cell_type": "code",
      "source": [
        "import re\n",
        "\n",
        "def normalize_arabic(text):\n",
        "    # Remove harakat (diacritics)\n",
        "    harakat = re.compile(r'[\\u0617-\\u061A\\u064B-\\u0652]')\n",
        "    text = harakat.sub('', text)\n",
        "    # Remove tatweel (kashida)\n",
        "    text = text.replace('ـ', '')\n",
        "    # Normalize alif forms\n",
        "    text = re.sub('[إأآا]', 'ا', text)\n",
        "    # Normalize yaa and ta marbuta\n",
        "    text = text.replace('ى', 'ي')\n",
        "    text = text.replace('ة', 'ه')\n",
        "    # Remove common pause marks or unusual signs if present\n",
        "    text = re.sub(r'[۩۞۝]', '', text)\n",
        "    # Trim spaces\n",
        "    return text.strip()\n",
        "\n",
        "ayah_index = {}\n",
        "\n",
        "with open('/content/tanzil.txt', encoding='utf-8') as f:\n",
        "    for line in f:\n",
        "        parts = line.strip().split('|')\n",
        "        if len(parts) == 3:\n",
        "            surah = int(parts[0])\n",
        "            ayah = int(parts[1])\n",
        "            text = parts[2]\n",
        "            norm_text = normalize_arabic(text)\n",
        "            ayah_index[(surah, ayah)] = norm_text\n",
        "\n",
        "print(f\"Indexed {len(ayah_index)} ayahs.\")\n",
        "# Peek at first few\n",
        "list(ayah_index.items())[:5]\n",
        "\n"
      ],
      "metadata": {
        "colab": {
          "base_uri": "https://localhost:8080/"
        },
        "collapsed": true,
        "id": "AaESSXxe8rgC",
        "outputId": "989429b0-5a2b-4cab-aeac-547bb39f75f9"
      },
      "execution_count": null,
      "outputs": [
        {
          "output_type": "stream",
          "name": "stdout",
          "text": [
            "Indexed 6236 ayahs.\n"
          ]
        },
        {
          "output_type": "execute_result",
          "data": {
            "text/plain": [
              "[((1, 1), 'بسم ٱلله ٱلرحمٰن ٱلرحيم'),\n",
              " ((1, 2), 'ٱلحمد لله رب ٱلعٰلمين'),\n",
              " ((1, 3), 'ٱلرحمٰن ٱلرحيم'),\n",
              " ((1, 4), 'مٰلك يوم ٱلدين'),\n",
              " ((1, 5), 'اياك نعبد واياك نستعين')]"
            ]
          },
          "metadata": {},
          "execution_count": 6
        }
      ]
    },
    {
      "cell_type": "code",
      "source": [
        "import glob, os\n",
        "\n",
        "train_files = glob.glob('/content/quran-recitation/filesq/train/**/*.wav', recursive=True)\n",
        "test_files = glob.glob('/content/quran-recitation/filesq/test/**/*.wav', recursive=True)\n",
        "\n",
        "print(\"Train examples:\", len(train_files))\n",
        "print(\"Test examples:\", len(test_files))\n"
      ],
      "metadata": {
        "id": "FQrw1bBiPOz8",
        "colab": {
          "base_uri": "https://localhost:8080/"
        },
        "outputId": "9e00e094-c9a2-4f3c-ff30-d1a87a17eae7"
      },
      "execution_count": null,
      "outputs": [
        {
          "output_type": "stream",
          "name": "stdout",
          "text": [
            "Train examples: 1158\n",
            "Test examples: 288\n"
          ]
        }
      ]
    },
    {
      "cell_type": "code",
      "source": [
        "!pip install git+https://github.com/openai/whisper.git\n",
        "!sudo apt-get install ffmpeg\n"
      ],
      "metadata": {
        "colab": {
          "base_uri": "https://localhost:8080/"
        },
        "collapsed": true,
        "id": "h3Tk73cTavG7",
        "outputId": "83b09160-26b6-475c-afb7-7420e4cfbc07"
      },
      "execution_count": null,
      "outputs": [
        {
          "output_type": "stream",
          "name": "stdout",
          "text": [
            "Collecting git+https://github.com/openai/whisper.git\n",
            "  Cloning https://github.com/openai/whisper.git to /tmp/pip-req-build-mdsg2bt4\n",
            "  Running command git clone --filter=blob:none --quiet https://github.com/openai/whisper.git /tmp/pip-req-build-mdsg2bt4\n",
            "  Resolved https://github.com/openai/whisper.git to commit c0d2f624c09dc18e709e37c2ad90c039a4eb72a2\n",
            "  Installing build dependencies ... \u001b[?25l\u001b[?25hdone\n",
            "  Getting requirements to build wheel ... \u001b[?25l\u001b[?25hdone\n",
            "  Preparing metadata (pyproject.toml) ... \u001b[?25l\u001b[?25hdone\n",
            "Requirement already satisfied: more-itertools in /usr/local/lib/python3.12/dist-packages (from openai-whisper==20250625) (10.8.0)\n",
            "Requirement already satisfied: numba in /usr/local/lib/python3.12/dist-packages (from openai-whisper==20250625) (0.60.0)\n",
            "Requirement already satisfied: numpy in /usr/local/lib/python3.12/dist-packages (from openai-whisper==20250625) (2.0.2)\n",
            "Requirement already satisfied: tiktoken in /usr/local/lib/python3.12/dist-packages (from openai-whisper==20250625) (0.11.0)\n",
            "Requirement already satisfied: torch in /usr/local/lib/python3.12/dist-packages (from openai-whisper==20250625) (2.8.0+cu126)\n",
            "Requirement already satisfied: tqdm in /usr/local/lib/python3.12/dist-packages (from openai-whisper==20250625) (4.67.1)\n",
            "Requirement already satisfied: triton>=2 in /usr/local/lib/python3.12/dist-packages (from openai-whisper==20250625) (3.4.0)\n",
            "Requirement already satisfied: setuptools>=40.8.0 in /usr/local/lib/python3.12/dist-packages (from triton>=2->openai-whisper==20250625) (75.2.0)\n",
            "Requirement already satisfied: llvmlite<0.44,>=0.43.0dev0 in /usr/local/lib/python3.12/dist-packages (from numba->openai-whisper==20250625) (0.43.0)\n",
            "Requirement already satisfied: regex>=2022.1.18 in /usr/local/lib/python3.12/dist-packages (from tiktoken->openai-whisper==20250625) (2024.11.6)\n",
            "Requirement already satisfied: requests>=2.26.0 in /usr/local/lib/python3.12/dist-packages (from tiktoken->openai-whisper==20250625) (2.32.4)\n",
            "Requirement already satisfied: filelock in /usr/local/lib/python3.12/dist-packages (from torch->openai-whisper==20250625) (3.19.1)\n",
            "Requirement already satisfied: typing-extensions>=4.10.0 in /usr/local/lib/python3.12/dist-packages (from torch->openai-whisper==20250625) (4.15.0)\n",
            "Requirement already satisfied: sympy>=1.13.3 in /usr/local/lib/python3.12/dist-packages (from torch->openai-whisper==20250625) (1.13.3)\n",
            "Requirement already satisfied: networkx in /usr/local/lib/python3.12/dist-packages (from torch->openai-whisper==20250625) (3.5)\n",
            "Requirement already satisfied: jinja2 in /usr/local/lib/python3.12/dist-packages (from torch->openai-whisper==20250625) (3.1.6)\n",
            "Requirement already satisfied: fsspec in /usr/local/lib/python3.12/dist-packages (from torch->openai-whisper==20250625) (2025.3.0)\n",
            "Requirement already satisfied: nvidia-cuda-nvrtc-cu12==12.6.77 in /usr/local/lib/python3.12/dist-packages (from torch->openai-whisper==20250625) (12.6.77)\n",
            "Requirement already satisfied: nvidia-cuda-runtime-cu12==12.6.77 in /usr/local/lib/python3.12/dist-packages (from torch->openai-whisper==20250625) (12.6.77)\n",
            "Requirement already satisfied: nvidia-cuda-cupti-cu12==12.6.80 in /usr/local/lib/python3.12/dist-packages (from torch->openai-whisper==20250625) (12.6.80)\n",
            "Requirement already satisfied: nvidia-cudnn-cu12==9.10.2.21 in /usr/local/lib/python3.12/dist-packages (from torch->openai-whisper==20250625) (9.10.2.21)\n",
            "Requirement already satisfied: nvidia-cublas-cu12==12.6.4.1 in /usr/local/lib/python3.12/dist-packages (from torch->openai-whisper==20250625) (12.6.4.1)\n",
            "Requirement already satisfied: nvidia-cufft-cu12==11.3.0.4 in /usr/local/lib/python3.12/dist-packages (from torch->openai-whisper==20250625) (11.3.0.4)\n",
            "Requirement already satisfied: nvidia-curand-cu12==10.3.7.77 in /usr/local/lib/python3.12/dist-packages (from torch->openai-whisper==20250625) (10.3.7.77)\n",
            "Requirement already satisfied: nvidia-cusolver-cu12==11.7.1.2 in /usr/local/lib/python3.12/dist-packages (from torch->openai-whisper==20250625) (11.7.1.2)\n",
            "Requirement already satisfied: nvidia-cusparse-cu12==12.5.4.2 in /usr/local/lib/python3.12/dist-packages (from torch->openai-whisper==20250625) (12.5.4.2)\n",
            "Requirement already satisfied: nvidia-cusparselt-cu12==0.7.1 in /usr/local/lib/python3.12/dist-packages (from torch->openai-whisper==20250625) (0.7.1)\n",
            "Requirement already satisfied: nvidia-nccl-cu12==2.27.3 in /usr/local/lib/python3.12/dist-packages (from torch->openai-whisper==20250625) (2.27.3)\n",
            "Requirement already satisfied: nvidia-nvtx-cu12==12.6.77 in /usr/local/lib/python3.12/dist-packages (from torch->openai-whisper==20250625) (12.6.77)\n",
            "Requirement already satisfied: nvidia-nvjitlink-cu12==12.6.85 in /usr/local/lib/python3.12/dist-packages (from torch->openai-whisper==20250625) (12.6.85)\n",
            "Requirement already satisfied: nvidia-cufile-cu12==1.11.1.6 in /usr/local/lib/python3.12/dist-packages (from torch->openai-whisper==20250625) (1.11.1.6)\n",
            "Requirement already satisfied: charset_normalizer<4,>=2 in /usr/local/lib/python3.12/dist-packages (from requests>=2.26.0->tiktoken->openai-whisper==20250625) (3.4.3)\n",
            "Requirement already satisfied: idna<4,>=2.5 in /usr/local/lib/python3.12/dist-packages (from requests>=2.26.0->tiktoken->openai-whisper==20250625) (3.10)\n",
            "Requirement already satisfied: urllib3<3,>=1.21.1 in /usr/local/lib/python3.12/dist-packages (from requests>=2.26.0->tiktoken->openai-whisper==20250625) (2.5.0)\n",
            "Requirement already satisfied: certifi>=2017.4.17 in /usr/local/lib/python3.12/dist-packages (from requests>=2.26.0->tiktoken->openai-whisper==20250625) (2025.8.3)\n",
            "Requirement already satisfied: mpmath<1.4,>=1.1.0 in /usr/local/lib/python3.12/dist-packages (from sympy>=1.13.3->torch->openai-whisper==20250625) (1.3.0)\n",
            "Requirement already satisfied: MarkupSafe>=2.0 in /usr/local/lib/python3.12/dist-packages (from jinja2->torch->openai-whisper==20250625) (3.0.2)\n",
            "Building wheels for collected packages: openai-whisper\n",
            "  Building wheel for openai-whisper (pyproject.toml) ... \u001b[?25l\u001b[?25hdone\n",
            "  Created wheel for openai-whisper: filename=openai_whisper-20250625-py3-none-any.whl size=803979 sha256=f77bee111b1fc32761a0406d9d94725516f2f2b4d586cfdae80d1f915ccc58b2\n",
            "  Stored in directory: /tmp/pip-ephem-wheel-cache-r50j7eka/wheels/c3/03/25/5e0ba78bc27a3a089f137c9f1d92fdfce16d06996c071a016c\n",
            "Successfully built openai-whisper\n",
            "Installing collected packages: openai-whisper\n",
            "Successfully installed openai-whisper-20250625\n",
            "Reading package lists... Done\n",
            "Building dependency tree... Done\n",
            "Reading state information... Done\n",
            "ffmpeg is already the newest version (7:4.4.2-0ubuntu0.22.04.1).\n",
            "0 upgraded, 0 newly installed, 0 to remove and 35 not upgraded.\n"
          ]
        }
      ]
    },
    {
      "cell_type": "code",
      "source": [
        "import whisper\n",
        "model = whisper.load_model(\"medium\")\n"
      ],
      "metadata": {
        "colab": {
          "base_uri": "https://localhost:8080/"
        },
        "id": "ZM6mRL4abffi",
        "outputId": "3df532c0-1b64-4938-9982-0d3baa7258cc"
      },
      "execution_count": null,
      "outputs": [
        {
          "output_type": "stream",
          "name": "stderr",
          "text": [
            "100%|█████████████████████████████████████| 1.42G/1.42G [00:32<00:00, 47.7MiB/s]\n"
          ]
        }
      ]
    },
    {
      "cell_type": "code",
      "source": [
        "audio_file = \"/content/quran-recitation/filesq/train/S0_1.wav\"\n",
        "result = model.transcribe(audio_file, language='ar')\n",
        "raw_text = result['text']"
      ],
      "metadata": {
        "id": "TJnAGZAxcLRv"
      },
      "execution_count": null,
      "outputs": []
    },
    {
      "cell_type": "code",
      "source": [
        "print(raw_text)"
      ],
      "metadata": {
        "colab": {
          "base_uri": "https://localhost:8080/"
        },
        "id": "DVTdcxXgcXf6",
        "outputId": "2ff2bf04-10b3-44fe-a18e-81d9913c17b2"
      },
      "execution_count": null,
      "outputs": [
        {
          "output_type": "stream",
          "name": "stdout",
          "text": [
            " قَالُواْ لَا عِلْمَ لَنَا إِنَّكَاً تَعَلَّامُ الْغُيُوبِ\n"
          ]
        }
      ]
    },
    {
      "cell_type": "code",
      "source": [
        "!pip install rapidfuzz\n"
      ],
      "metadata": {
        "colab": {
          "base_uri": "https://localhost:8080/"
        },
        "collapsed": true,
        "id": "0VgMkipecda0",
        "outputId": "7ae7f8cc-2b26-4ed4-d2a0-4e12fa95988e"
      },
      "execution_count": null,
      "outputs": [
        {
          "output_type": "stream",
          "name": "stdout",
          "text": [
            "Collecting rapidfuzz\n",
            "  Downloading rapidfuzz-3.14.1-cp312-cp312-manylinux_2_27_x86_64.manylinux_2_28_x86_64.whl.metadata (12 kB)\n",
            "Downloading rapidfuzz-3.14.1-cp312-cp312-manylinux_2_27_x86_64.manylinux_2_28_x86_64.whl (3.2 MB)\n",
            "\u001b[?25l   \u001b[90m━━━━━━━━━━━━━━━━━━━━━━━━━━━━━━━━━━━━━━━━\u001b[0m \u001b[32m0.0/3.2 MB\u001b[0m \u001b[31m?\u001b[0m eta \u001b[36m-:--:--\u001b[0m\r\u001b[2K   \u001b[91m━━━━━━━━━━━━━━━━━━━━━━━━━━━━━━━━━━━━━━━\u001b[0m\u001b[91m╸\u001b[0m \u001b[32m3.2/3.2 MB\u001b[0m \u001b[31m189.8 MB/s\u001b[0m eta \u001b[36m0:00:01\u001b[0m\r\u001b[2K   \u001b[90m━━━━━━━━━━━━━━━━━━━━━━━━━━━━━━━━━━━━━━━━\u001b[0m \u001b[32m3.2/3.2 MB\u001b[0m \u001b[31m87.7 MB/s\u001b[0m eta \u001b[36m0:00:00\u001b[0m\n",
            "\u001b[?25hInstalling collected packages: rapidfuzz\n",
            "Successfully installed rapidfuzz-3.14.1\n"
          ]
        }
      ]
    },
    {
      "cell_type": "code",
      "source": [
        "normalized_transcript = normalize_arabic(raw_text)\n",
        "print(\"Raw ASR:\", raw_text)\n",
        "print(\"Normalized:\", normalized_transcript)\n",
        "\n"
      ],
      "metadata": {
        "colab": {
          "base_uri": "https://localhost:8080/"
        },
        "collapsed": true,
        "id": "vbE7tzV_dJC5",
        "outputId": "634f2645-47ed-4ab7-a428-b25710e0b214"
      },
      "execution_count": null,
      "outputs": [
        {
          "output_type": "stream",
          "name": "stdout",
          "text": [
            "Raw ASR:  قَالُواْ لَا عِلْمَ لَنَا إِنَّكَاً تَعَلَّامُ الْغُيُوبِ\n",
            "Normalized: قالوا لا علم لنا انكا تعلام الغيوب\n"
          ]
        }
      ]
    },
    {
      "cell_type": "code",
      "source": [
        "from sklearn.feature_extraction.text import TfidfVectorizer\n",
        "from sklearn.metrics.pairwise import cosine_similarity\n",
        "import numpy as np\n",
        "\n",
        "# Build TF-IDF matrix of all ayahs\n",
        "vectorizer = TfidfVectorizer(analyzer='word', ngram_range=(1,2))\n",
        "ayah_texts = list(ayah_index.values())\n",
        "tfidf_matrix = vectorizer.fit_transform(ayah_texts)\n",
        "\n",
        "# Encode transcript and compare\n",
        "query_vec = vectorizer.transform([normalized_transcript])\n",
        "cosines = cosine_similarity(query_vec, tfidf_matrix).flatten()\n",
        "\n",
        "# Get the index of the highest cosine similarity\n",
        "best_idx = np.argmax(cosines)\n",
        "best_score = cosines[best_idx]\n",
        "predicted_surah_ayah = list(ayah_index.keys())[best_idx]\n",
        "\n",
        "print(\"Best match:\", predicted_surah_ayah)\n",
        "print(\"Cosine similarity:\", best_score)\n",
        "print(\"Text:\", ayah_texts[best_idx])\n",
        "\n",
        "\n",
        "\n",
        "\n",
        "\n"
      ],
      "metadata": {
        "colab": {
          "base_uri": "https://localhost:8080/"
        },
        "id": "MpTKYgm-kVM6",
        "outputId": "e056f0d0-4254-406f-982d-082c709bfbe7"
      },
      "execution_count": null,
      "outputs": [
        {
          "output_type": "stream",
          "name": "stdout",
          "text": [
            "Best match: (5, 109)\n",
            "Cosine similarity: 0.4286461460971155\n",
            "Text: يوم يجمع ٱلله ٱلرسل فيقول ماذآ اجبتم ۖ قالوا۟ لا علم لنآ ۖ انك انت علٰم ٱلغيوب\n"
          ]
        }
      ]
    },
    {
      "cell_type": "code",
      "source": [
        "import requests\n",
        "\n",
        "def get_tafseer(surah, ayah, tafseer_id=169):\n",
        "    \"\"\"\n",
        "    tafseer_id values differ by source. 169 = Tafsir Ibn Kathir (English).\n",
        "    \"\"\"\n",
        "    url = f\"https://api.quran.com/api/v4/tafsirs/{tafseer_id}/by_ayah/{surah}:{ayah}\"\n",
        "    response = requests.get(url)\n",
        "    if response.status_code == 200:\n",
        "        data = response.json()\n",
        "        text = data['tafsir']['text']\n",
        "        return text\n",
        "    else:\n",
        "        return \"Tafseer not available.\"\n"
      ],
      "metadata": {
        "colab": {
          "base_uri": "https://localhost:8080/"
        },
        "collapsed": true,
        "id": "s9UFmMiMyFCK",
        "outputId": "f89eb978-d77a-4ce1-8e34-4f53638a323a"
      },
      "execution_count": null,
      "outputs": [
        {
          "output_type": "stream",
          "name": "stdout",
          "text": [
            "Tafseer for 2:255\n",
            "\n",
            "<h2>The Virtue of Ayat Al-Kursi</h2><p>This is Ayat Al-Kursi and tremendous virtues have been associated with it, for the authentic Hadith describes it as `the greatest Ayah in the Book of Allah.' Imam Ahmad recorded that `Ubayy bin Ka`b said that the Prophet asked him about the greatest Ayah in the Book of Allah, and `Ubayy answered, \"Allah and His Messenger know better.\" When the Prophet repeated his question several times, `Ubayy said, \"Ayat Al-Kursi.\" The Prophet commented,</p><p>«لِيَهْنِكَ الْعِلْمُ أَبَا الْمُنْذِرِ، وَالَّذِي نَفْسِي بِيَدِهِ، إِنَّ لَهَا لِسَانًا وَشَفَتَيْنِ، تُقَدِّسُ الْمَلِكَ عِنْدَ سَاقِ الْعَرْش»</p><p>(Congratulations for having knowledge, O Abu Al-Mundhir! By He in Whose Hand is my soul! This Ayah has a tongue and two lips with which she praises the King (Allah) next to the leg of the Throne.)</p><p>This Hadith was also collected by Muslim, but he did not include the part that starts with, \"By He in Whose Hand...\"</p><p>Imam Ahmad recorded that Abu Ayyub said that he had some dates and a Ghoul used to take some, and he complained to the Prophet. The Prophet said to him, \"When you see her, say, `In the Name of Allah, answer to the Messenger of Allah ﷺ'.\" Abu Ayyub said that when she came again, he said these words and he was able to grab her. She begged, \"I will not come again,\" so Abu Ayyub released her. Abu Ayyub went to the Prophet and the Prophet asked him, \"What did your prisoner do\" Abu Ayyub said, \"I grabbed her and she said twice, `I will not come again,' and I released her.\" The Prophet said, \"She will come back.\" Abu Ayyub said, \"So I grabbed her twice or three times, yet each time I would release her when she vowed not to come back. I would go to the Prophet who would ask me, `What is the news of your prisoner' I would say, `I grabbed her, then released her when she said that she would not return.' The Prophet would say that she would return. Once, I grabbed her and she said, `Release me and I will teach you something to recite so that no harm touches you, that is, Ayat Al-Kursi.' Abu Ayyub went to the Prophet and told him, and the Prophet said, \"She is liar, but she told the truth.\" At-Tirmidhi recorded this Hadith in the chapter of the virtues of the Qur'an and said, \"Hasan Gharib.\" In Arabic, `Ghoul' refers to the Jinn when they appear at night.</p><p>Al-Bukhari recorded a similar story in his Sahih from Abu Hurayrah, in the chapters on the virtues of the Qur'an and the description of Shaytan. In this narration, Abu Hurayrah said,</p><p>\"Allah's Messenger ﷺ assigned me to keep watch over the Sadaqah (charity) of Ramadan. A person snuck in and started taking handfuls of foodstuff. I caught him and said, `By Allah, I will take you to Allah's Messenger ﷺ.' He said, `Release me, for I am meek and have many dependents and am in great need.' I released him, and in the morning Allah's Messenger ﷺ asked me, `What did your prisoner do yesterday, O Abu Hurayrah' I said, `O Allah's Messenger ﷺ! He complained of being needy and of having many dependents, so I pitied him and let him go.' Allah's Messenger ﷺ said, `Indeed, he told you a lie and will be coming again.' I believed that he would show up again, for Allah's Messenger ﷺ had told me that he would return. So, I watched for him. When he (showed up and) started stealing handfuls of foodstuff, I caught hold of him again and said, `I will definitely take you to Allah's Messenger ﷺ.' He said, `Leave me, for I am very needy and have many dependents. I promise I will not come back again.' I pitied him and let him go. In the morning Allah's Messenger ﷺ asked me, `What did your prisoner do last night, O Abu Hurayrah!' I replied, `O Allah's Messenger ﷺ! He complained of his great need and of too many dependents, so I took pity on him and set him free.' Allah's Messenger ﷺ said, `Verily, he told you a lie; he will return.' I waited for him attentively for the third time, and when he (came and) started stealing handfuls of the foodstuff, I caught hold of him and said, `I will surely take you to Allah's Messenger ﷺ as it is the third time you promised not to return, yet you returned.' He said, `Let me teach you some words which Allah will give you benefit from.' I asked, `What are they' He replied, `Whenever you go to bed, recite Ayat Al-Kursi- Allahu la ilaha illa Huwal-Hayyul-Qayyum, till you finish the whole verse. (If you do so), Allah will appoint a guard for you who will stay with you, and no Shaytan will come near you until morning.' So, I released him. In the morning, Allah's Messenger ﷺ asked, `What did your prisoner do yesterday' I replied, `O Allah's Messenger ﷺ! He claimed that he would teach me some words by which Allah will grant me some benefit, so I let him go.' Allah's Messenger ﷺ asked, `What are they' I replied, `He said to me: Whenever you go to bed, recite Ayat Al-Kursi from the beginning to the end, Allahu la ilaha illa Huwal-Hayyul-Qayyum. He further said to me: (If you do so), Allah will appoint a guard for you who will stay with you, and no Shaytan will come near you until morning.' (One of the narrators) then commented that they (the Companions) were very keen to do good deeds. The Prophet said, `He spoke the truth, although he is a liar. Do you know whom you were talking to, these three nights, O Abu Hurayrah' Abu Hurayrah said, `No.' He said, `It was Shaytan.\"' An-Nasa'i also recorded this Hadith in Al-Yawm wa Al-Laylah.</p><h2>Allah's Greatest Name is in Ayat Al-Kursi</h2><p>Imam Ahmad recorded that Asma' bint Yazid bin As-Sakan said, \"I heard the Messenger of Allah ﷺ say about these two Ayat,</p><p>اللَّهُ لاَ إِلَـهَ إِلاَّ هُوَ الْحَىُّ الْقَيُّومُ</p><p>(Allah! None has the right to be worshipped but He, the Ever Living, the One Who sustains and protects all that exists) 2:255, and,</p><p>الم - اللَّهُ لاَ إِلَـهَ إِلاَّ هُوَ الْحَىُّ الْقَيُّومُ</p><p>(Alif-Lam-Mim. Allah! None has the right to be worshipped but He, the Ever Living, the One Who sustains and protects all that exists) 3:1-2,</p><p>«إِنَّ فِيهِمَا اسْمَ اللهِ الْأَعْظَم»</p><p>(They contain Allah's Greatest Name.)</p><p>This is also the narration collected by Abu Dawud, At-Tirmidhi and Ibn Majah, and At-Tirmidhi said, \"Hasan Sahih\".</p><p>Further, Ibn Marduwyah recorded that Abu Umamah reported that the Prophet said,</p><p>«اسْمُ اللهِ الْأَعْظَمُ، الَّذِي إِذَا دُعِيَ بِهِ أَجَابَ، فِي ثَلَاثٍ: سُورَةِ الْبَقَرَةِ وَآلِ عِمْرَانَ وَطه»</p><p>(Allah's Greatest Name, if He was supplicated with it, He answers the supplication, is in three Surahs - Al-Baqarah, Al `Imran and Ta-Ha.)</p><p>Hisham bin `Ammar, the Khatib (orator) of Damascus (one of the narrators in the above narration), said, \"As for Al-Baqarah, it is in,</p><p>اللَّهُ لاَ إِلَـهَ إِلاَّ هُوَ الْحَىُّ الْقَيُّومُ</p><p>(Allah! None has the right to be worshipped but He, the Ever Living, the One Who sustains and protects all that exists) 2:255; in Al `Imran, it is in,</p><p>الم - اللَّهُ لاَ إِلَـهَ إِلاَّ هُوَ الْحَىُّ الْقَيُّومُ</p><p>(Alif-Lam-Mim. Allah! None has the right to be worshipped but He, the Ever Living, the One Who sustains and protects all that exists) 3:1-2, while in Ta-Ha, it is in,</p><p>وَعَنَتِ الْوُجُوهُ لِلْحَىِّ الْقَيُّومِ</p><p>(And (all) faces shall be humbled before (Allah), the Ever Living, the One Who sustains and protects all that exists) 20:111.\"</p><h2>Ayat Al-Kursi has Ten Complete Arabic Sentences 1. Allah's statement,</h2><p>اللَّهُ لاَ إِلَـهَ إِلاَّ هُوَ</p><p>(Allah! None has the right to be worshipped but He) mentions that Allah is the One and Only Lord of all creation. 2. Allah's statement,</p><p>الْحَىُّ الْقَيُّومُ</p><p>(Al-Hayyul-Qayyum) testifies that Allah is the Ever Living, Who never dies, Who sustains everyone and everything. All creation stands in need of Allah and totally relies on Him, while He is the Most Rich, Who stands in need of nothing created. Similarly, Allah said,</p><p>وَمِنْ ءَايَـتِهِ أَن تَقُومَ السَّمَآءُ وَالاٌّرْضُ بِأَمْرِهِ</p><p>(And among His signs is that the heaven and the earth stand by His command) 30:25. 3. Allah's statement,</p><p>لاَ تَأْخُذُهُ سِنَةٌ وَلاَ نَوْمٌ</p><p>(Neither slumber nor sleep overtakes Him) means, no shortcoming, unawareness or ignorance ever touches Allah. Rather, He is aware of, and controls what every soul earns, has perfect watch over everything, nothing escapes His knowledge, and no secret matter is secret to Him. Among His perfect attributes, is the fact that He is never effected by slumber or sleep. Therefore, Allah's statement,</p><p>لاَ تَأْخُذُهُ سِنَةٌ</p><p>(Neither slumber overtakes Him) indicates that no unawareness due to slumber ever overtakes Allah. Allah said afterwards,</p><p>وَلاَ نَوْمٌ</p><p>(nor sleep), which is stronger than slumber. It is recorded in the Sahih that Abu Musa said, \"The Messenger of Allah ﷺ delivered a speech regarding four words:</p><p>«إِنَّ اللهَللهَلا يَنَامُ، وَلَا يَنْبَغِي لَهُ أَنْ يَنَامَ، يَخْفِضُ الْقِسْطَ وَيَرْفَعُهُ، يُرْفَعُ إِلَيْهِ عَمَلُ النَّهَارِ قَبْلَ عَمَلِ اللَّيْلِ، وَعَمَلُ اللَّيْلِ قَبْلَ عَمَلِ النَّهَارِ، حِجَابُهُ النُّورُ أَوِ النَّارُ لَوْ كَشَفَهُ لَأَحْرَقَتْ سُبُحَاتُ وَجْهِهِ مَا انْتَهَى إِلَيْهِ بَصَرُهُ مِنْ خَلْقِه»</p><p>(Allah does not sleep, and it does not befit His majesty that He sleeps. He lowers the scales and raises them. The deeds of the day are resurrected in front of Him before the deeds of the night, and the deeds of the night before the deeds of the day. His Veil is light, or fire, and if He removes it, the rays from His Face would burn whatever His sight reaches of His creation.)</p><p>4. Allah's statement,</p><p>لَّهُ مَا فِي السَّمَـوَاتِ وَمَا فِي الاٌّرْضِ</p><p>(To Him belongs whatever is in the heavens and whatever is on the earth) indicates that everyone is a servant for Allah, a part of His kingdom and under His power and authority. Similarly, Allah said,</p><p>إِن كُلُّ مَن فِى السَّمَـوَتِ وَالاٌّرْضِ إِلاَّ آتِى الرَّحْمَـنِ عَبْداً - لَّقَدْ أَحْصَـهُمْ وَعَدَّهُمْ عَدّاً - وَكُلُّهُمْ ءَاتِيهِ يَوْمَ الْقِيَـمَةِ فَرْداً</p><p>(There is none in the heavens and the earth but comes unto the Most Gracious (Allah) as a servant. Verily, He knows each one of them, and has counted them a full counting. And everyone of them will come to Him alone on the Day of Resurrection (without any helper, or protector or defender)) 19:93-95. 5. Allah's statement,</p><p>مَن ذَا الَّذِى يَشْفَعُ عِندَهُ إِلاَّ بِإِذْنِهِ</p><p>(Who is he that can intercede with Him except with His permission) is similar to His statements,</p><p>وَكَمْ مِّن مَّلَكٍ فِى السَّمَـوَتِ لاَ تُغْنِى شَفَـعَتُهُمْ شَيْئاً إِلاَّ مِن بَعْدِ أَن يَأْذَنَ اللَّهُ لِمَن يَشَآءُ وَيَرْضَى</p><p>(And there are many angels in the heavens, whose intercession will avail nothing except after Allah has given leave for whom He wills and is pleased with) 53:26, and,</p><p>وَلاَ يَشْفَعُونَ إِلاَّ لِمَنِ ارْتَضَى</p><p>(They cannot intercede except for him with whom He is pleased) 21:28.</p><p>These Ayat assert Allah's greatness, pride, and grace, and that no one dares to intercede with Him on behalf of anyone else, except by His permission. Indeed, the Hadith about the intercession, states that the Prophet said,</p><p>«آتِي تَحْتَ الْعَرْشِ فَأَخِرُّ سَاجِدًا، فَيَدَعُنِي مَا شَاءَ اللهُ أَنْ يَدَعَنِي. ثُمَّ يُقَالُ: ارْفَعْ رَأْسَكَ، وَقُلْ تُسْمَعْ، وَاشْفَعْ تُشَفَّعْ قَالَ: فَيَحُدُّ لِي حَدًّا فَأُدْخِلُهُمُ الْجَنَّة»</p><p>(I will stand under the Throne and fall in prostration, and Allah will allow me to remain in that position as much as He wills. I will thereafter be told, \"Raise your head, speak and you will be heard, intercede and your intercession will be accepted\". The Prophet then said, \"He will allow me a proportion whom I will enter into Paradise.\")</p><p>6. Allah's statement,</p><p>يَعْلَمُ مَا بَيْنَ أَيْدِيهِمْ وَمَا خَلْفَهُمْ</p><p>(He knows what happens to them (His creatures) in this world, and what will happen to them in the Hereafter) this refers to His perfect knowledge of all creation; its past, present and future. Similarly, Allah said that the angels proclaimed;</p><p>وَمَا نَتَنَزَّلُ إِلاَّ بِأَمْرِ رَبِّكَ لَهُ مَا بَيْنَ أَيْدِينَا وَمَا خَلْفَنَا وَمَا بَيْنَ ذلِكَ وَمَا كَانَ رَبُّكَ نَسِيّاً</p><p>(And we (angels) descend not except by the command of your Lord (O Muhammad ). To Him belongs what is before us and what is behind us, and what is between those two; and your Lord is never forgetful) 19:64. 7. Allah's statement,</p><p>وَلاَ يُحِيطُونَ بِشَيْءٍ مِّنْ عِلْمِهِ إِلاَّ بِمَا شَآءَ</p><p>(And they will never compass anything of His Knowledge except that which He wills), asserts the fact that no one attains any part of Allah's knowledge except what Allah conveys and allows. This part of the Ayah indicates that no one ever acquires knowledge of Allah and in His Attributes, except what He conveys to them. For instance, Allah said,</p><p>وَلاَ يُحِيطُونَ بِهِ عِلْماً</p><p>(But they will never compass anything of His knowledge) 20: 110. 8. Allah said,</p><p>وَسِعَ كُرْسِيُّهُ السَّمَـوَاتِ وَالاٌّرْضَ</p><p>(His Kursi extends over the heavens and the earth.)</p><p>Waki` narrated in his Tafsir that Ibn `Abbas said, \"Kursi is the footstool, and no one is able to give due consideration to Allah's Throne.\" Al-Hakim recorded this Hadith in his Mustadrak from Ibn `Abbas, who did not relate it to the Prophet . Al-Hakim said, \"It is Sahih according to the criteria of the Two Sahihs, and they (Al-Bukhari and Muslim) did not record it.\" In addition, Ad-Dahhak said that Ibn `Abbas said, \"If the seven heavens and the seven earths were flattened and laid side by side, they would add up to the size of a ring in a desert, compared to the Kursi.\" 9. Allah said,</p><p>وَلاَ يَؤُودُهُ حِفْظُهُمَا</p><p>(And He feels no fatigue in guarding and preserving them) meaning, it does not burden or cause Him fatigue to protect the heavens and earth and all that is in between them. Rather, this is an easy matter for Him. Further, Allah sustains everything, has perfect watch over everything, nothing ever escapes His knowledge and no matter is ever a secret to Him. All matters are insignificant, modest and humble before Him. He is the Most Rich, worthy of all praise. He does what He wills, and no one can ask Him about what He does, while they will be asked. He has supreme power over all things and perfect alertness concerning everything. He is the Most High, the Greatest, there is no deity worthy of worship except Him, and no Lord other than Him.</p><p>10. Allah's statement,</p><p>وَهُوَ الْعَلِىُّ الْعَظِيمُ</p><p>(And He is the Most High, the Most Great) is similar to His statement,</p><p>الْكَبِيرُ الْمُتَعَالِ</p><p>(the Most Great, the Most High) 13:9.</p><p>These and similar Ayat and authentic Hadiths about Allah's Attributes must be treated the way the Salaf (righteous ancestors) treated them by accepting their apparent meanings without equating them with the attributes of the creation or altering their apparent meanings.</p>\n"
          ]
        }
      ]
    },
    {
      "cell_type": "code",
      "source": [
        "surah, ayah = predicted_surah_ayah\n",
        "\n",
        "# Fetch tafseer\n",
        "tafsir_text = get_tafseer(surah, ayah)\n",
        "\n",
        "print(f\"Predicted Ayah: Surah {surah}, Ayah {ayah}\")\n",
        "print(\"Tafseer:\", tafsir_text)"
      ],
      "metadata": {
        "colab": {
          "base_uri": "https://localhost:8080/"
        },
        "id": "P_VdHBdU2sI_",
        "outputId": "cbdf4e99-432b-4517-c944-4b3f0546d2df"
      },
      "execution_count": null,
      "outputs": [
        {
          "output_type": "stream",
          "name": "stdout",
          "text": [
            "Predicted Ayah: Surah 5, Ayah 109\n",
            "Tafseer: <h2>The Messengers ﷺ Will be Asked About Their Nations</h2><p>Allah states that on the Day of Resurrection, He will ask the Messengers about how their nations, to whom He sent them, answered and responded to their teachings. Allah said in other Ayat,</p><p>فَلَنَسْـَلَنَّ الَّذِينَ أُرْسِلَ إِلَيْهِمْ وَلَنَسْـَلَنَّ الْمُرْسَلِينَ</p><p>(Then surely, We shall question those (people) to whom it (the Book) was sent and verily, We shall question the Messengers.) 7:6, and,</p><p>فَوَرَبِّكَ لَنَسْـَلَنَّهُمْ أَجْمَعِينَ - عَمَّا كَانُواْ يَعْمَلُونَ</p><p>(So, by your Lord, We shall certainly call all of them to account. For all that they used to do.) 15:92-93. The statement of the Messengers here,</p><p>لاَ عِلْمَ لَنَآ</p><p>(We have no knowledge) is the result of the horror of that Day, according to Mujahid, Al-Hasan Al-Basri and As-Suddi. `Abdur-Razzaq narrated that Ath-Thawri said that Al-A`mash said that Mujahid said about the Ayah,</p><p>يَوْمَ يَجْمَعُ اللَّهُ الرُّسُلَ فَيَقُولُ مَاذَآ أُجِبْتُمْ</p><p>(On the Day when Allah will gather the Messengers together and say to them: \"What was the response you received\") They will become afraid and reply,</p><p>لاَ عِلْمَ لَنَآ</p><p>(We have no knowledge. ..) Ibn Jarir and Ibn Abi Hatim also recorded this explanation. `Ali bin Abi Talhah said that Ibn `Abbas commented on the Ayah,</p><p>يَوْمَ يَجْمَعُ اللَّهُ الرُّسُلَ فَيَقُولُ مَاذَآ أُجِبْتُمْ قَالُواْ لاَ عِلْمَ لَنَآ إِنَّكَ أَنتَ عَلَّـمُ الْغُيُوبِ</p><p>(On the Day when Allah will gather the Messengers together and say to them: \"What was the response you received (from men to your teaching)\" They will say: \"We have no knowledge, verily, only You are the Knower of all that is hidden.\") \"They will say to the Lord, Most Honored, `We have no knowledge beyond what we know, and even that, You have more knowledge of them than us.\" This response is out of respect before the Lord, Most Honored, and it means, we have no knowledge compared to Your encompassing knowledge. Therefore, our knowledge only grasped the visible behavior of these people, not the secrets of their hearts. You are the Knower of everything, Who has encompassing knowledge of all things, and our knowledge compared to Your knowledge is similar to not having any knowledge at all, for</p><p>أَنتَ عَلَّـمُ الْغُيُوبِ</p><p>(only You are the Knower of all that is hidden.)</p><p>إِذْ قَالَ اللَّهُ يعِيسَى ابْنَ مَرْيَمَ اذْكُرْ نِعْمَتِى عَلَيْكَ وَعَلَى وَلِدَتِكَ إِذْ أَيَّدتُّكَ بِرُوحِ الْقُدُسِ تُكَلِّمُ النَّاسَ فِى الْمَهْدِ وَكَهْلاً وَإِذْ عَلَّمْتُكَ الْكِتَـبَ وَالْحِكْمَةَ وَالتَّوْرَاةَ وَالإِنجِيلَ وَإِذْ تَخْلُقُ مِنَ الطِّينِ كَهَيْئَةِ الطَّيْرِ بِإِذْنِى فَتَنفُخُ فِيهَا فَتَكُونُ طَيْراً بِإِذْنِى وَتُبْرِىءُ الاٌّكْمَهَ وَالاٌّبْرَصَ بِإِذْنِى وَإِذْ تُخْرِجُ الْمَوتَى بِإِذْنِى وَإِذْ كَفَفْتُ بَنِى إِسْرَءِيلَ عَنكَ إِذْ جِئْتَهُمْ بِالْبَيِّنَـتِ فَقَالَ الَّذِينَ كَفَرُواْ مِنْهُمْ إِنْ هَـذَا إِلاَّ سِحْرٌ مُّبِينٌ - وَإِذْ أَوْحَيْتُ إِلَى الْحَوَارِيِّينَ أَنْ ءَامِنُواْ بِى وَبِرَسُولِى قَالُواْ ءَامَنَّا وَاشْهَدْ بِأَنَّنَا مُسْلِمُونَ</p>\n"
          ]
        }
      ]
    }
  ]
}